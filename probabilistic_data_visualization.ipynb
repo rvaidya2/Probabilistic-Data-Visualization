{
 "cells": [
  {
   "cell_type": "markdown",
   "metadata": {
    "nbgrader": {
     "grade": false,
     "grade_id": "cell-100f4129570db3cb",
     "locked": true,
     "schema_version": 3,
     "solution": false,
     "task": false
    }
   },
   "source": [
    "Ferreira, N., Fisher, D., & Konig, A. C. (2014, April). [Sample-oriented task-driven visualizations: allowing users to make better, more confident decisions.](https://www.microsoft.com/en-us/research/wp-content/uploads/2016/02/Ferreira_Fisher_Sample_Oriented_Tasks.pdf) \n",
    "&nbsp;&nbsp;&nbsp;&nbsp;&nbsp;&nbsp;In Proceedings of the SIGCHI Conference on Human Factors in Computing Systems (pp. 571-580). ACM. ([video](https://www.youtube.com/watch?v=BI7GAs-va-Q))\n",
    "\n",
    "In this [paper](https://www.microsoft.com/en-us/research/wp-content/uploads/2016/02/Ferreira_Fisher_Sample_Oriented_Tasks.pdf) the authors describe the challenges users face when trying to make judgements about probabilistic data generated through samples. As an example, they look at a bar chart of four years of data (replicated below in Figure 1). Each year has a y-axis value, which is derived from a sample of a larger dataset. For instance, the first value might be the number votes in a given district or riding for 1992, with the average being around 33,000. On top of this is plotted the 95% confidence interval for the mean (see the boxplot lectures for more information, and the yerr parameter of barcharts).\n",
    "\n",
    "<br>\n",
    "<img src=\"assets/Assignment3Fig1.png\" alt=\"Figure 1\" style=\"width: 400px;\"/>\n",
    "<h4 style=\"text-align: center;\" markdown=\"1\">  &nbsp;&nbsp;&nbsp;&nbsp;&nbsp;&nbsp;&nbsp;&nbsp;Figure 1 from (Ferreira et al, 2014).</h4>\n",
    "\n",
    "<br>\n",
    "\n",
    "A challenge that users face is that, for a given y-axis value (e.g. 42,000), it is difficult to know which x-axis values are most likely to be representative, because the confidence levels overlap and their distributions are different (the lengths of the confidence interval bars are unequal). One of the solutions the authors propose for this problem (Figure 2c) is to allow users to indicate the y-axis value of interest (e.g. 42,000) and then draw a horizontal line and color bars based on this value. So bars might be colored red if they are definitely above this value (given the confidence interval), blue if they are definitely below this value, or white if they contain this value.\n",
    "\n",
    "\n",
    "<br>\n",
    "<img src=\"assets/Assignment3Fig2c.png\" alt=\"Figure 1\" style=\"width: 400px;\"/>\n",
    "<h4 style=\"text-align: center;\" markdown=\"1\">  Figure 2c from (Ferreira et al. 2014). Note that the colorbar legend at the bottom as well as the arrows are not required in the assignment descriptions below.</h4>\n",
    "\n",
    "<br>\n",
    "<br>\n",
    "\n",
    
    "**Harder option:** Implement the bar coloring as described in the paper, where the color of the bar is actually based on the amount of data covered (e.g. a gradient ranging from dark blue for the distribution being certainly below this y-axis, to white if the value is certainly contained, to dark red if the value is certainly not contained as the distribution is above the axis).\n",
    "\n",
    
   ]
  },
  {
   "cell_type": "code",
   "execution_count": 1,
   "metadata": {
    "nbgrader": {
     "grade": false,
     "grade_id": "cell-ea6be57836ed5374",
     "locked": true,
     "schema_version": 3,
     "solution": false,
     "task": false
    }
   },
   "outputs": [
    {
     "data": {
      "text/html": [
       "<div>\n",
       "<style scoped>\n",
       "    .dataframe tbody tr th:only-of-type {\n",
       "        vertical-align: middle;\n",
       "    }\n",
       "\n",
       "    .dataframe tbody tr th {\n",
       "        vertical-align: top;\n",
       "    }\n",
       "\n",
       "    .dataframe thead th {\n",
       "        text-align: right;\n",
       "    }\n",
       "</style>\n",
       "<table border=\"1\" class=\"dataframe\">\n",
       "  <thead>\n",
       "    <tr style=\"text-align: right;\">\n",
       "      <th></th>\n",
       "      <th>0</th>\n",
       "      <th>1</th>\n",
       "      <th>2</th>\n",
       "      <th>3</th>\n",
       "      <th>4</th>\n",
       "      <th>5</th>\n",
       "      <th>6</th>\n",
       "      <th>7</th>\n",
       "      <th>8</th>\n",
       "      <th>9</th>\n",
       "      <th>...</th>\n",
       "      <th>3640</th>\n",
       "      <th>3641</th>\n",
       "      <th>3642</th>\n",
       "      <th>3643</th>\n",
       "      <th>3644</th>\n",
       "      <th>3645</th>\n",
       "      <th>3646</th>\n",
       "      <th>3647</th>\n",
       "      <th>3648</th>\n",
       "      <th>3649</th>\n",
       "    </tr>\n",
       "  </thead>\n",
       "  <tbody>\n",
       "    <tr>\n",
       "      <th>1992</th>\n",
       "      <td>-8941.531897</td>\n",
       "      <td>127788.667612</td>\n",
       "      <td>-71887.743011</td>\n",
       "      <td>-79146.060869</td>\n",
       "      <td>425156.114501</td>\n",
       "      <td>310681.166595</td>\n",
       "      <td>50581.575349</td>\n",
       "      <td>88349.230566</td>\n",
       "      <td>185804.513522</td>\n",
       "      <td>281286.947277</td>\n",
       "      <td>...</td>\n",
       "      <td>171938.760289</td>\n",
       "      <td>150650.759924</td>\n",
       "      <td>203663.976475</td>\n",
       "      <td>-377877.158072</td>\n",
       "      <td>-197214.093861</td>\n",
       "      <td>24185.008589</td>\n",
       "      <td>-56826.729535</td>\n",
       "      <td>-67319.766489</td>\n",
       "      <td>113377.299342</td>\n",
       "      <td>-4494.878538</td>\n",
       "    </tr>\n",
       "    <tr>\n",
       "      <th>1993</th>\n",
       "      <td>-51896.094813</td>\n",
       "      <td>198350.518755</td>\n",
       "      <td>-123518.252821</td>\n",
       "      <td>-129916.759685</td>\n",
       "      <td>216119.147314</td>\n",
       "      <td>49845.883728</td>\n",
       "      <td>149135.648505</td>\n",
       "      <td>62807.672113</td>\n",
       "      <td>23365.577348</td>\n",
       "      <td>-109686.264981</td>\n",
       "      <td>...</td>\n",
       "      <td>-44566.520071</td>\n",
       "      <td>101032.122475</td>\n",
       "      <td>117648.199945</td>\n",
       "      <td>160475.622607</td>\n",
       "      <td>-13759.888342</td>\n",
       "      <td>-37333.493572</td>\n",
       "      <td>103019.841174</td>\n",
       "      <td>179746.127403</td>\n",
       "      <td>13455.493990</td>\n",
       "      <td>34442.898855</td>\n",
       "    </tr>\n",
       "    <tr>\n",
       "      <th>1994</th>\n",
       "      <td>152336.932066</td>\n",
       "      <td>192947.128056</td>\n",
       "      <td>389950.263156</td>\n",
       "      <td>-93006.152024</td>\n",
       "      <td>100818.575896</td>\n",
       "      <td>5529.230706</td>\n",
       "      <td>-32989.370488</td>\n",
       "      <td>223942.967178</td>\n",
       "      <td>-66721.580898</td>\n",
       "      <td>47826.269111</td>\n",
       "      <td>...</td>\n",
       "      <td>165085.806360</td>\n",
       "      <td>74735.174090</td>\n",
       "      <td>107329.726875</td>\n",
       "      <td>199250.734156</td>\n",
       "      <td>-36792.202754</td>\n",
       "      <td>-71861.846997</td>\n",
       "      <td>26375.113219</td>\n",
       "      <td>-29328.078384</td>\n",
       "      <td>65858.761714</td>\n",
       "      <td>-91542.001049</td>\n",
       "    </tr>\n",
       "    <tr>\n",
       "      <th>1995</th>\n",
       "      <td>-69708.439062</td>\n",
       "      <td>-13289.977022</td>\n",
       "      <td>-30178.390991</td>\n",
       "      <td>55052.181256</td>\n",
       "      <td>152883.621657</td>\n",
       "      <td>12930.835194</td>\n",
       "      <td>63700.461932</td>\n",
       "      <td>64148.489835</td>\n",
       "      <td>-29316.268556</td>\n",
       "      <td>59645.677367</td>\n",
       "      <td>...</td>\n",
       "      <td>-13901.388118</td>\n",
       "      <td>50173.686673</td>\n",
       "      <td>53965.990717</td>\n",
       "      <td>4128.990173</td>\n",
       "      <td>72202.595138</td>\n",
       "      <td>39937.199964</td>\n",
       "      <td>139472.114293</td>\n",
       "      <td>59386.186379</td>\n",
       "      <td>73362.229590</td>\n",
       "      <td>28705.082908</td>\n",
       "    </tr>\n",
       "  </tbody>\n",
       "</table>\n",
       "<p>4 rows × 3650 columns</p>\n",
       "</div>"
      ],
      "text/plain": [
       "               0              1              2              3     \\\n",
       "1992   -8941.531897  127788.667612  -71887.743011  -79146.060869   \n",
       "1993  -51896.094813  198350.518755 -123518.252821 -129916.759685   \n",
       "1994  152336.932066  192947.128056  389950.263156  -93006.152024   \n",
       "1995  -69708.439062  -13289.977022  -30178.390991   55052.181256   \n",
       "\n",
       "               4              5              6              7     \\\n",
       "1992  425156.114501  310681.166595   50581.575349   88349.230566   \n",
       "1993  216119.147314   49845.883728  149135.648505   62807.672113   \n",
       "1994  100818.575896    5529.230706  -32989.370488  223942.967178   \n",
       "1995  152883.621657   12930.835194   63700.461932   64148.489835   \n",
       "\n",
       "               8              9     ...           3640           3641  \\\n",
       "1992  185804.513522  281286.947277  ...  171938.760289  150650.759924   \n",
       "1993   23365.577348 -109686.264981  ...  -44566.520071  101032.122475   \n",
       "1994  -66721.580898   47826.269111  ...  165085.806360   74735.174090   \n",
       "1995  -29316.268556   59645.677367  ...  -13901.388118   50173.686673   \n",
       "\n",
       "               3642           3643           3644          3645  \\\n",
       "1992  203663.976475 -377877.158072 -197214.093861  24185.008589   \n",
       "1993  117648.199945  160475.622607  -13759.888342 -37333.493572   \n",
       "1994  107329.726875  199250.734156  -36792.202754 -71861.846997   \n",
       "1995   53965.990717    4128.990173   72202.595138  39937.199964   \n",
       "\n",
       "               3646           3647           3648          3649  \n",
       "1992  -56826.729535  -67319.766489  113377.299342  -4494.878538  \n",
       "1993  103019.841174  179746.127403   13455.493990  34442.898855  \n",
       "1994   26375.113219  -29328.078384   65858.761714 -91542.001049  \n",
       "1995  139472.114293   59386.186379   73362.229590  28705.082908  \n",
       "\n",
       "[4 rows x 3650 columns]"
      ]
     },
     "execution_count": 1,
     "metadata": {},
     "output_type": "execute_result"
    }
   ],
   "source": [
    "# Use the following data for this assignment:\n",
    "\n",
    "import pandas as pd\n",
    "import numpy as np\n",
    "import matplotlib.pyplot as plt\n",
    "\n",
    "np.random.seed(12345)\n",
    "\n",
    "df = pd.DataFrame([np.random.normal(32000,200000,3650), \n",
    "                   np.random.normal(43000,100000,3650), \n",
    "                   np.random.normal(43500,140000,3650), \n",
    "                   np.random.normal(48000,70000,3650)], \n",
    "                  index=[1992,1993,1994,1995])\n",
    "df"
   ]
  },
  {
   "cell_type": "code",
   "execution_count": 2,
   "metadata": {},
   "outputs": [
    {
     "name": "stdout",
     "output_type": "stream",
     "text": [
      "means \n",
      " 1992    33312.107476\n",
      "1993    41861.859541\n",
      "1994    39493.304941\n",
      "1995    47743.550969\n",
      "dtype: float64 \n",
      " std_devs \n",
      " 1992    200630.901553\n",
      "1993     98398.356203\n",
      "1994    140369.925240\n",
      "1995     69781.185469\n",
      "dtype: float64 \n",
      " conf_intervals \n",
      " 1992    6508.897970\n",
      "1993    3192.254314\n",
      "1994    4553.902287\n",
      "1995    2263.851744\n",
      "dtype: float64\n"
     ]
    }
   ],
   "source": [
    "#Your Code Here\n",
    "\n",
    "means = df.mean(axis=1)\n",
    "std_devs = df.std(axis=1)\n",
    "conf_intervals = 1.96 * (std_devs / np.sqrt(df.shape[1]))\n",
    "print(\"means \\n\",means,\"\\n std_devs \\n\", std_devs, \"\\n conf_intervals \\n\", conf_intervals)"
   ]
  },
  {
   "cell_type": "code",
   "execution_count": 3,
   "metadata": {},
   "outputs": [],
   "source": [
    "# Choose y-axis value of interest\n",
    "y_value_of_interest = 42000\n",
    "\n"
   ]
  },
  {
   "cell_type": "code",
   "execution_count": 4,
   "metadata": {},
   "outputs": [
    {
     "data": {
      "image/png": "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\n",
      "text/plain": [
       "<Figure size 432x288 with 1 Axes>"
      ]
     },
     "metadata": {
      "needs_background": "light"
     },
     "output_type": "display_data"
    }
   ],
   "source": [
    "# Calculate probabilities\n",
    "probabilities = [(conf - abs(y_value_of_interest - mean)) / conf for mean, conf in zip(means, conf_intervals)]\n",
    "\n",
    "# Implement gradient bar coloring\n",
    "colors = plt.cm.RdBu_r(probabilities)\n",
    "\n",
    "# Create the bar chart with gradient coloring\n",
    "bins = np.arange(1991, 1995, 1)\n",
    "plt.bar(df.index, means, yerr=conf_intervals, color=colors, capsize=10)\n",
    "plt.axhline(y=y_value_of_interest, color='black', linestyle='--', linewidth=2)\n",
    "plt.xticks(np.arange(min(df.index), max(df.index)+1 , 1))\n",
    "\n",
    "plt.xlabel('Year')\n",
    "plt.ylabel('Mean Value')\n",
    "plt.title('Bar Chart with Gradient Coloring')\n",
    "plt.show()\n"
   ]
  },
  {
   "cell_type": "code",
   "execution_count": null,
   "metadata": {},
   "outputs": [],
   "source": []
  },
  {
   "cell_type": "code",
   "execution_count": null,
   "metadata": {},
   "outputs": [],
   "source": []
  },
  {
   "cell_type": "code",
   "execution_count": null,
   "metadata": {},
   "outputs": [],
   "source": []
  },
  {
   "cell_type": "code",
   "execution_count": null,
   "metadata": {},
   "outputs": [],
   "source": []
  }
 ],
 "metadata": {
  "celltoolbar": "Create Assignment",
  "kernelspec": {
   "display_name": "Python 3 (ipykernel)",
   "language": "python",
   "name": "python3"
  },
  "language_info": {
   "codemirror_mode": {
    "name": "ipython",
    "version": 3
   },
   "file_extension": ".py",
   "mimetype": "text/x-python",
   "name": "python",
   "nbconvert_exporter": "python",
   "pygments_lexer": "ipython3",
   "version": "3.8.10"
  },
  "vscode": {
   "interpreter": {
    "hash": "aee8b7b246df8f9039afb4144a1f6fd8d2ca17a180786b69acc140d282b71a49"
   }
  }
 },
 "nbformat": 4,
 "nbformat_minor": 4
}
